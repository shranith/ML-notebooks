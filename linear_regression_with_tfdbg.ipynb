{
  "nbformat": 4,
  "nbformat_minor": 0,
  "metadata": {
    "colab": {
      "name": "linear_regression_with_tfdbg.ipynb",
      "version": "0.3.2",
      "provenance": [],
      "collapsed_sections": [],
      "include_colab_link": true
    },
    "kernelspec": {
      "display_name": "Python [default]",
      "language": "python",
      "name": "python2"
    }
  },
  "cells": [
    {
      "cell_type": "markdown",
      "metadata": {
        "id": "view-in-github",
        "colab_type": "text"
      },
      "source": [
        "<a href=\"https://colab.research.google.com/github/shranith/ML-notebooks/blob/master/linear_regression_with_tfdbg.ipynb\" target=\"_parent\"><img src=\"https://colab.research.google.com/assets/colab-badge.svg\" alt=\"Open In Colab\"/></a>"
      ]
    },
    {
      "metadata": {
        "collapsed": false,
        "id": "AHW-UGqjAcZN",
        "colab_type": "text"
      },
      "cell_type": "markdown",
      "source": [
        "# Linear Regression Example\n",
        "\n",
        "A linear regression learning algorithm example using TensorFlow library, along with tensorflow debugger \n",
        "\n",
        "\n"
      ]
    },
    {
      "metadata": {
        "id": "VeaI2gq4AcZQ",
        "colab_type": "code",
        "colab": {}
      },
      "cell_type": "code",
      "source": [
        "import tensorflow as tf\n",
        "import numpy\n",
        "import matplotlib.pyplot as plt\n",
        "rng = numpy.random"
      ],
      "execution_count": 0,
      "outputs": []
    },
    {
      "metadata": {
        "id": "tuOccpG6AcZT",
        "colab_type": "code",
        "colab": {}
      },
      "cell_type": "code",
      "source": [
        "# Parameters\n",
        "learning_rate = 0.01\n",
        "training_epochs = 1000\n",
        "display_step = 50"
      ],
      "execution_count": 0,
      "outputs": []
    },
    {
      "metadata": {
        "id": "D-SkuPBXAcZV",
        "colab_type": "code",
        "colab": {}
      },
      "cell_type": "code",
      "source": [
        "# Training Data\n",
        "train_X = numpy.asarray([3.3,4.4,5.5,6.71,6.93,4.168,9.779,6.182,7.59,2.167,\n",
        "                         7.042,10.791,5.313,7.997,5.654,9.27,3.1])\n",
        "train_Y = numpy.asarray([1.7,2.76,2.09,3.19,1.694,1.573,3.366,2.596,2.53,1.221,\n",
        "                         2.827,3.465,1.65,2.904,2.42,2.94,1.3])\n",
        "n_samples = train_X.shape[0]"
      ],
      "execution_count": 0,
      "outputs": []
    },
    {
      "metadata": {
        "id": "L4si4EfNAcZX",
        "colab_type": "code",
        "colab": {}
      },
      "cell_type": "code",
      "source": [
        "# tf Graph Input\n",
        "X = tf.placeholder(\"float\")\n",
        "Y = tf.placeholder(\"float\")\n",
        "\n",
        "# Set model weights\n",
        "W = tf.Variable(rng.randn(), name=\"weight\")\n",
        "b = tf.Variable(rng.randn(), name=\"bias\")"
      ],
      "execution_count": 0,
      "outputs": []
    },
    {
      "metadata": {
        "id": "VVmwe5LqAcZa",
        "colab_type": "code",
        "colab": {}
      },
      "cell_type": "code",
      "source": [
        "# Construct a linear model\n",
        "pred = tf.add(tf.multiply(X, W), b)"
      ],
      "execution_count": 0,
      "outputs": []
    },
    {
      "metadata": {
        "id": "U75rjjjgAcZb",
        "colab_type": "code",
        "colab": {}
      },
      "cell_type": "code",
      "source": [
        "# Mean squared error\n",
        "cost = tf.reduce_sum(tf.pow(pred-Y, 2))/(2*n_samples)\n",
        "# Gradient descent\n",
        "optimizer = tf.train.GradientDescentOptimizer(learning_rate).minimize(cost)"
      ],
      "execution_count": 0,
      "outputs": []
    },
    {
      "metadata": {
        "id": "EKpupkY6AcZe",
        "colab_type": "code",
        "colab": {}
      },
      "cell_type": "code",
      "source": [
        "# Initialize the variables (i.e. assign their default value)\n",
        "init = tf.global_variables_initializer()"
      ],
      "execution_count": 0,
      "outputs": []
    },
    {
      "metadata": {
        "id": "lgngQX29AcZg",
        "colab_type": "code",
        "outputId": "71565465-8706-43a5-f778-fe0d6fa1d092",
        "colab": {
          "base_uri": "https://localhost:8080/",
          "height": 738
        }
      },
      "cell_type": "code",
      "source": [
        "# Start training\n",
        "with tf.Session() as sess:\n",
        "    sess.run(init)\n",
        "\n",
        "    # Fit all training data\n",
        "    for epoch in range(training_epochs):\n",
        "        for (x, y) in zip(train_X, train_Y):\n",
        "            sess.run(optimizer, feed_dict={X: x, Y: y})\n",
        "\n",
        "        #Display logs per epoch step\n",
        "        if (epoch+1) % display_step == 0:\n",
        "            c = sess.run(cost, feed_dict={X: train_X, Y:train_Y})\n",
        "            print \"Epoch:\", '%04d' % (epoch+1), \"cost=\", \"{:.9f}\".format(c), \\\n",
        "                \"W=\", sess.run(W), \"b=\", sess.run(b)\n",
        "\n",
        "    print \"Optimization Finished!\"\n",
        "    training_cost = sess.run(cost, feed_dict={X: train_X, Y: train_Y})\n",
        "    print \"Training cost=\", training_cost, \"W=\", sess.run(W), \"b=\", sess.run(b), '\\n'\n",
        "\n",
        "    #Graphic display\n",
        "    plt.plot(train_X, train_Y, 'ro', label='Original data')\n",
        "    plt.plot(train_X, sess.run(W) * train_X + sess.run(b), label='Fitted line')\n",
        "    plt.legend()\n",
        "    plt.show()"
      ],
      "execution_count": 9,
      "outputs": [
        {
          "output_type": "stream",
          "text": [
            "Epoch: 0050 cost= 0.089114100 W= 0.18833631 b= 1.2421466\n",
            "Epoch: 0100 cost= 0.087719858 W= 0.19198006 b= 1.2159339\n",
            "Epoch: 0150 cost= 0.086486578 W= 0.19540615 b= 1.1912872\n",
            "Epoch: 0200 cost= 0.085395321 W= 0.19862844 b= 1.168106\n",
            "Epoch: 0250 cost= 0.084429674 W= 0.2016593 b= 1.1463022\n",
            "Epoch: 0300 cost= 0.083575241 W= 0.20450987 b= 1.1257957\n",
            "Epoch: 0350 cost= 0.082819127 W= 0.20719096 b= 1.106508\n",
            "Epoch: 0400 cost= 0.082150094 W= 0.20971256 b= 1.0883675\n",
            "Epoch: 0450 cost= 0.081557952 W= 0.21208444 b= 1.0713044\n",
            "Epoch: 0500 cost= 0.081034027 W= 0.2143152 b= 1.055257\n",
            "Epoch: 0550 cost= 0.080570348 W= 0.21641323 b= 1.0401635\n",
            "Epoch: 0600 cost= 0.080159985 W= 0.2183866 b= 1.0259671\n",
            "Epoch: 0650 cost= 0.079796799 W= 0.22024274 b= 1.0126144\n",
            "Epoch: 0700 cost= 0.079475395 W= 0.22198842 b= 1.0000557\n",
            "Epoch: 0750 cost= 0.079190917 W= 0.22363037 b= 0.9882439\n",
            "Epoch: 0800 cost= 0.078939147 W= 0.22517462 b= 0.97713464\n",
            "Epoch: 0850 cost= 0.078716293 W= 0.22662708 b= 0.9666858\n",
            "Epoch: 0900 cost= 0.078519069 W= 0.22799309 b= 0.95685905\n",
            "Epoch: 0950 cost= 0.078344516 W= 0.22927752 b= 0.9476189\n",
            "Epoch: 1000 cost= 0.078189991 W= 0.23048554 b= 0.9389284\n",
            "Optimization Finished!\n",
            "Training cost= 0.07818999 W= 0.23048554 b= 0.9389284 \n",
            "\n"
          ],
          "name": "stdout"
        },
        {
          "output_type": "display_data",
          "data": {
            "image/png": "[encoded data removed]",
            "text/plain": [
              "<matplotlib.figure.Figure at 0x7f5c87d9ca10>"
            ]
          },
          "metadata": {
            "tags": []
          }
        }
      ]
    },
    {
      "metadata": {
        "id": "HADDy42vAcZk",
        "colab_type": "code",
        "colab": {}
      },
      "cell_type": "code",
      "source": [
        "# Regression result"
      ],
      "execution_count": 0,
      "outputs": []
    }
  ]
}